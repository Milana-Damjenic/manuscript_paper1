{
 "cells": [
  {
   "cell_type": "markdown",
   "metadata": {},
   "source": [
    "# Comparing Psychometric and Subjective Adequacy Assessment of Response\n",
    "\n",
    "Scales with Differing Lengths in PHQ-9 and CESD-10\n",
    "\n",
    "Norah Jones (The University)\n",
    "\n",
    "## Section\n",
    "\n",
    "## Results"
   ],
   "id": "a19a3289-3aff-40ca-bfa4-def3ca999c15"
  },
  {
   "cell_type": "code",
   "execution_count": null,
   "metadata": {
    "warnings": false
   },
   "outputs": [
    {
     "output_type": "stream",
     "name": "stderr",
     "text": [
      "\n",
      "Attaching package: 'psych'"
     ]
    },
    {
     "output_type": "stream",
     "name": "stderr",
     "text": [
      "The following objects are masked from 'package:ggplot2':\n",
      "\n",
      "    %+%, alpha"
     ]
    },
    {
     "output_type": "stream",
     "name": "stderr",
     "text": [
      "\n",
      "Attaching package: 'plotly'"
     ]
    },
    {
     "output_type": "stream",
     "name": "stderr",
     "text": [
      "The following object is masked from 'package:ggplot2':\n",
      "\n",
      "    last_plot"
     ]
    },
    {
     "output_type": "stream",
     "name": "stderr",
     "text": [
      "The following object is masked from 'package:stats':\n",
      "\n",
      "    filter"
     ]
    },
    {
     "output_type": "stream",
     "name": "stderr",
     "text": [
      "The following object is masked from 'package:graphics':\n",
      "\n",
      "    layout"
     ]
    },
    {
     "output_type": "stream",
     "name": "stderr",
     "text": [
      "\n",
      "Attaching package: 'tidyr'"
     ]
    },
    {
     "output_type": "stream",
     "name": "stderr",
     "text": [
      "The following object is masked from 'package:reshape2':\n",
      "\n",
      "    smiths"
     ]
    },
    {
     "output_type": "stream",
     "name": "stderr",
     "text": [
      "\n",
      "Attaching package: 'dplyr'"
     ]
    },
    {
     "output_type": "stream",
     "name": "stderr",
     "text": [
      "The following object is masked from 'package:kableExtra':\n",
      "\n",
      "    group_rows"
     ]
    },
    {
     "output_type": "stream",
     "name": "stderr",
     "text": [
      "The following object is masked from 'package:gridExtra':\n",
      "\n",
      "    combine"
     ]
    },
    {
     "output_type": "stream",
     "name": "stderr",
     "text": [
      "The following objects are masked from 'package:stats':\n",
      "\n",
      "    filter, lag"
     ]
    },
    {
     "output_type": "stream",
     "name": "stderr",
     "text": [
      "The following objects are masked from 'package:base':\n",
      "\n",
      "    intersect, setdiff, setequal, union"
     ]
    }
   ],
   "source": [
    "# Load libraries\n",
    "library(ggplot2)\n",
    "library(gridExtra)\n",
    "library(reshape2)\n",
    "library(psych)"
   ],
   "id": "f32a1172-0999-4631-83d2-63c7429c9979"
  },
  {
   "cell_type": "code",
   "execution_count": null,
   "metadata": {},
   "outputs": [],
   "source": [
    "#### Prepare PHQ-9 scores and Adequacy and Effort data ####\n",
    "data <- list()\n",
    "\n",
    "for (i in 1:length(full_data)) {\n",
    "    data[[i]] <- full_data[[i]][,c(phq_item_names, cl_phq_item_names)]\n",
    "}\n",
    "\n",
    "# Check missing in data list per element and per column\n",
    "missing <- lapply(data, function(x) colSums(is.na(x)))\n",
    "\n",
    "# Where missing, replace with mode for the column\n",
    "# Define the get_mode function\n",
    "get_mode <- function(v) {\n",
    "    v <- v[!is.na(v)]  # Remove NA values\n",
    "    uniqv <- unique(v)\n",
    "    uniqv[which.max(tabulate(match(v, uniqv)))]\n",
    "}\n",
    "\n",
    "# Updated loop\n",
    "for (i in 1:length(data)) {\n",
    "    for (j in 1:ncol(data[[i]])) {\n",
    "        if (missing[[i]][j] > 0) {\n",
    "            mode_value <- get_mode(data[[i]][,j])\n",
    "            data[[i]][,j] <- ifelse(is.na(data[[i]][,j]), mode_value, data[[i]][,j])\n",
    "        }\n",
    "    }\n",
    "}\n",
    "\n",
    "# Calculate sum scores of PHQ-9 and EFFORT\n",
    "for (i in 1:length(data)) {\n",
    "    data[[i]]$phq_score <- rowSums(data[[i]][,phq_item_names])\n",
    "    data[[i]]$cl_phq6_r <- 6-data[[i]]$cl_phq6\n",
    "    data[[i]]$cl_phq9_r <- 6-data[[i]]$cl_phq9\n",
    "    data[[i]]$cl_phq_sp_adequacy <- rowMeans(data[[i]][,c(\"cl_phq3\", \"cl_phq6_r\", \"cl_phq9_r\")])\n",
    "    data[[i]]$cl_phq_cogn_effort <- rowMeans(data[[i]][,c(\"cl_phq1\", \"cl_phq4\", \"cl_phq7\")])\n",
    "    data[[i]]$cl_phq_emo_effort <- rowMeans(data[[i]][,c(\"cl_phq2\", \"cl_phq5\", \"cl_phq8\")])\n",
    "}\n",
    "\n",
    "descriptives <- list()\n",
    "for(i in 1:length(data)){\n",
    "    temp <- data[[i]][,c(\"cl_phq_sp_adequacy\", \"cl_phq_cogn_effort\", \"cl_phq_emo_effort\")]\n",
    "    results <- describe(temp)\n",
    "    results <- results[, c(-1, -6, -8, -9, -10, -13)]\n",
    "    colnames(results) <- c(\"n\", \"M\", \"SD\", \"Mdn\", \"MAD\", \"Sk\", \"Ku\")\n",
    "    descriptives[[i]] <- results\n",
    "}\n",
    "\n",
    "adequacy_effort_means <- data.frame(Scale = 1:20, \n",
    "                                    Adequacy = sapply(descriptives, function(x) x[1, \"M\"]),\n",
    "                                    Cognitive_Effort = sapply(descriptives, function(x) x[2, \"M\"]),\n",
    "                                    Emotional_Effort = sapply(descriptives, function(x) x[3, \"M\"]))\n",
    "\n",
    "#### Prepare PHQ-9 Item Total Correlations ####\n",
    "\n",
    "# Calculate item-total correlations using lapply\n",
    "IT_cor_col_names <- paste0(phq_item_names, \"_IT_cor\")\n",
    "IT_cor_list <- lapply(seq_along(full_data), function(j) { \n",
    "    current_data <- full_data[[j]] \n",
    "    total_scores <- rowSums(current_data[, phq_item_names], na.rm = TRUE) \n",
    "    item_total_corr <- sapply(phq_item_names, function(item) { \n",
    "        cor(current_data[[item]], total_scores - current_data[[item]], use = \"pairwise.complete.obs\") \n",
    "    }) \n",
    "    data.frame(Item = IT_cor_col_names, Correlation = item_total_corr, Dataset = j) \n",
    "}) \n",
    "\n",
    "# Combine the list of data frames into a single data frame\n",
    "IT_cor_df <- do.call(rbind, \n",
    "                     lapply(seq_along(IT_cor_list), function(i) {\n",
    "                         # Add the index 'i' as a new column 'ID' to each data frame in the list\n",
    "                         df <- IT_cor_list[[i]]\n",
    "                         df$Scale <- i  # Assign the index as an identifier\n",
    "                         return(df)\n",
    "                     })\n",
    ")\n",
    "\n",
    "#convert to wide based on item\n",
    "IT_cor_df_wide <- dcast(IT_cor_df, Scale ~ Item, value.var = \"Correlation\")\n",
    "\n",
    "# merge data_means and IT_cor_df_wide by scale\n",
    "IT_cor_effort_merged <- merge(adequacy_effort_means, IT_cor_df_wide, by = \"Scale\")\n",
    "\n",
    "# Create transformed variables dataset on a range from 0 to 1 \n",
    "scale_to_0_1 <- function(x, new_min = 0, new_max = 1) {\n",
    "    (x - min(x, na.rm = TRUE)) / (max(x, na.rm = TRUE) - min(x, na.rm = TRUE)) * (new_max - new_min) + new_min\n",
    "}\n",
    "\n",
    "IT_cor_scaled <- IT_cor_effort_merged %>%\n",
    "    mutate(across(-all_of(\"Scale\"), scale_to_0_1))\n",
    "\n",
    "IT_cor_effort_cor <- list()\n",
    "effort_vars <- c(\"Adequacy\", \"Cognitive_Effort\", \"Emotional_Effort\")\n",
    "for(var in effort_vars){\n",
    "    df_to_store <- data.frame(Item = c(rep(NA, length(phq_item_names))), \n",
    "                              Correlation = c(rep(NA, length(phq_item_names))), \n",
    "                              Correlation_Lower = c(rep(NA, length(phq_item_names))), \n",
    "                              Correlation_Upper = c(rep(NA, length(phq_item_names))))\n",
    "    \n",
    "    for(item in IT_cor_col_names){\n",
    "        data_temp <- IT_cor_scaled[,c(\"Scale\", item, var)]\n",
    "        data_temp <- data_temp[-1,]\n",
    "        cor_temp <- cor.test(data_temp[,c(var)], data_temp[,c(item)], method = \"pearson\")\n",
    "        cor_temp_est <- cor_temp$estimate\n",
    "        cor_temp_lower <- cor_temp$conf.int[1]\n",
    "        cor_temp_upper <- cor_temp$conf.int[2]\n",
    "        item_pos <- which(IT_cor_col_names == item)\n",
    "        df_to_store$Item[item_pos] <- item\n",
    "        df_to_store$Correlation[item_pos] <- cor_temp_est\n",
    "        df_to_store$Correlation_Lower[item_pos] <- cor_temp_lower\n",
    "        df_to_store$Correlation_Upper[item_pos] <- cor_temp_upper\n",
    "    }\n",
    "    IT_cor_effort_cor[[var]] <- df_to_store\n",
    "}"
   ],
   "id": "4d342d75-fe59-4bf1-a3e3-c114c08b1848"
  },
  {
   "cell_type": "code",
   "execution_count": null,
   "metadata": {},
   "outputs": [],
   "source": [
    "IT_adequacy_effort_list <- list()\n",
    "IT_adequacy_effort_trends <- list()\n",
    "effort_vars <- c(\"Adequacy\", \"Cognitive_Effort\", \"Emotional_Effort\")\n",
    "for(var in effort_vars){\n",
    "    plot_list <- list()\n",
    "    plot_list_trend <- list()\n",
    "    for(item in IT_cor_col_names){\n",
    "        \n",
    "        data_temp <- IT_cor_scaled[,c(\"Scale\", item, var)]\n",
    "        data_temp <- data_temp[-1,]\n",
    "        data_temp$Difference <- data_temp[[var]] - data_temp[[item]]\n",
    "        #convert to long\n",
    "        data_temp_long <- melt(data_temp, id.vars = c(\"Scale\"), \n",
    "                               variable.name = \"Variable\", value.name = \"Value\")\n",
    "        \n",
    "        x_min <- min(data_temp_long$Scale)\n",
    "        x_max <- max(data_temp_long$Scale)\n",
    "        \n",
    "       plot_scale_trends <- ggplot(data = data_temp_long, aes(x = Scale, y = Value, color = Variable, group = Variable)) +\n",
    "            geom_point(size = 1) +\n",
    "            geom_line(linewidth = 1) + \n",
    "            scale_x_continuous(breaks = seq(x_min, x_max, 1)) +\n",
    "            labs(x = \"Scale\", y = paste(var, \"Effort Value\", sep = \" \"), title = toTitleCase(phq_item_names[which(IT_cor_col_names == item)])) +\n",
    "            theme(legend.position = \"bottom\")\n",
    "        \n",
    "        # Create the label text\n",
    "        label_text <- paste0(\n",
    "            \"Correlation: \", round(cor_temp_est, 2),\n",
    "            \"\\nCI: [\", round(cor_temp_lower, 2), \", \", round(cor_temp_upper, 2), \"]\")\n",
    "        data_cor_temp <- data_temp\n",
    "        colnames(data_cor_temp) <- c(\"Scale\", \"IT_cor\", \"Effort\", \"Difference\")\n",
    "        \n",
    "        plot_cor <- ggplot(data = data_cor_temp, aes(x = Effort, y = IT_cor, color = Scale)) +\n",
    "            geom_point() +\n",
    "            labs(x = paste(var, \"Effort Value\", sep = \" \"), y = \"Item Total Correlation\",\n",
    "                 title = toTitleCase(item)) +\n",
    "            #remove legend\n",
    "            theme(legend.position = ifelse(item == \"phq1\", \"right\", \"none\")) +\n",
    "            annotate(\n",
    "                \"text\",\n",
    "                x = 0,\n",
    "                y = 0,\n",
    "                label = label_text,\n",
    "                hjust = 0,\n",
    "                size = 4,\n",
    "                color = \"black\"\n",
    "            )\n",
    "        plot_list[[item]] <- plot_cor\n",
    "        plot_list_trend[[item]] <- plot_scale_trends\n",
    "    }\n",
    "    IT_adequacy_effort_list[[var]] <- plot_list\n",
    "    IT_adequacy_effort_trends[[var]] <- plot_list_trend\n",
    "}"
   ],
   "id": "d7e66494-a424-459c-837f-4b8947f0b320"
  },
  {
   "cell_type": "code",
   "execution_count": null,
   "metadata": {},
   "outputs": [
    {
     "output_type": "display_data",
     "metadata": {},
     "data": {}
    }
   ],
   "source": [
    "grid.arrange(\n",
    "    grobs = IT_adequacy_effort_list[[\"Adequacy\"]],\n",
    "    ncol = 3\n",
    ")"
   ],
   "id": "e66681a1-95f5-4859-8fdf-239efef29d4b"
  },
  {
   "cell_type": "code",
   "execution_count": null,
   "metadata": {},
   "outputs": [
    {
     "output_type": "display_data",
     "metadata": {},
     "data": {}
    }
   ],
   "source": [
    "grid.arrange(\n",
    "    grobs = IT_adequacy_effort_trends[[\"Adequacy\"]],\n",
    "    ncol = 3\n",
    ")"
   ],
   "id": "1680da3e-81a2-48aa-9211-6a704410f7cc"
  },
  {
   "cell_type": "code",
   "execution_count": null,
   "metadata": {},
   "outputs": [],
   "source": [
    "# Calculate POMP scores using lapply \n",
    "item_pomp_scores_list <- lapply(seq_along(full_data), function(j) { \n",
    "    current_data <- full_data[[j]] \n",
    "     # Set the score range dynamically\n",
    "    if (j == 1) {\n",
    "        min_score <- 0\n",
    "        max_score <- 3\n",
    "    } else {\n",
    "        min_score <- 0\n",
    "        max_score <- j - 1\n",
    "    }\n",
    "\n",
    "    # Calculate POMP scores \n",
    "    pomp_scores <- sapply(phq_item_names, function(item) { \n",
    "        mean_score <- mean(current_data[[item]], na.rm = TRUE) \n",
    "        (mean_score - min_score) / (max_score - min_score) * 100 \n",
    "    }) \n",
    "\n",
    "    data.frame(Item = phq_item_names, Score = pomp_scores, Dataset = j) \n",
    "}) \n",
    "\n",
    "adequacy_pomp_scores_df_temp <- do.call(rbind, item_pomp_scores_list)\n",
    "\n",
    "# Combine all POMP scores into one dataframe \n",
    "adequacy_pomp_scores_df <- data.frame(Scale = 1:20)  # Initialize an empty data frame\n",
    "\n",
    "for(i in phq_item_names) {\n",
    "    temp_df <- as.data.frame(adequacy_pomp_scores_df_temp[adequacy_pomp_scores_df_temp$Item == i, c(\"Score\")])\n",
    "    colnames(temp_df) <- paste(\"POMP\", i, sep = \"_\")\n",
    "    adequacy_pomp_scores_df <- cbind(adequacy_pomp_scores_df, temp_df)\n",
    "}\n",
    "\n",
    "adequacy_pomp_scores_df <- cbind(adequacy_pomp_scores_df, adequacy_effort_means[effort_vars])\n",
    "\n",
    "#rescale POMP columns in adequacy_pomp_scores_df\n",
    "POMP_scaled <- adequacy_pomp_scores_df %>%\n",
    "    mutate(across(-all_of(\"Scale\"), scale_to_0_1))"
   ],
   "id": "732160f4-f6ae-4f62-97a9-5a836c0bb52e"
  },
  {
   "cell_type": "code",
   "execution_count": null,
   "metadata": {},
   "outputs": [],
   "source": [
    "POMP_adequacy_effort_list <- list()\n",
    "POMP_adequacy_effort_trends <- list()\n",
    "POMP_col_names <- paste(\"POMP\", phq_item_names, sep = \"_\")\n",
    "effort_vars <- c(\"Adequacy\", \"Cognitive_Effort\", \"Emotional_Effort\")\n",
    "for(var in effort_vars){\n",
    "    plot_list <- list()\n",
    "    plot_list_trend <- list()\n",
    "    for(item in POMP_col_names){\n",
    "        data_temp <- POMP_scaled[,c(\"Scale\", item, var)]\n",
    "        data_temp <- data_temp[-1,]\n",
    "        data_temp$Difference <- data_temp[[var]] - data_temp[[item]]\n",
    "        #convert to long\n",
    "        data_temp_long <- melt(data_temp, id.vars = c(\"Scale\"), \n",
    "                               variable.name = \"Variable\", value.name = \"Value\")\n",
    "        \n",
    "        plot_scale_trends <- ggplot(data = data_temp_long, aes(x = Scale, y = Value, color = Variable, group = Variable)) +\n",
    "            geom_point(size = 1) +\n",
    "            geom_line(linewidth = 1) + \n",
    "            scale_x_continuous(breaks = seq(2, 20, 1)) +\n",
    "            labs(x = \"Scale\", y = paste(var, \"Effort Value\", sep = \" \"), title = toTitleCase(phq_item_names[which(POMP_col_names == item)])) +\n",
    "            scale_color_manual(values = c(\"blue\", \"green\", \"red\")) +  # Define the colors manually\n",
    "            theme(legend.position = \"bottom\")\n",
    "        \n",
    "        # Create the label text\n",
    "        label_text <- paste0(\n",
    "            \"Correlation: \", round(cor_temp_est, 2),\n",
    "            \"\\nCI: [\", round(cor_temp_lower, 2), \", \", round(cor_temp_upper, 2), \"]\")\n",
    "        data_cor_temp <- data_temp\n",
    "        colnames(data_cor_temp) <- c(\"Scale\", \"POMP\", \"Effort\", \"Difference\")\n",
    "        \n",
    "        plot_cor <- ggplot(data = data_cor_temp, aes(x = Effort, y = POMP, color = Scale)) +\n",
    "            geom_point() +\n",
    "            labs(x = paste(var, \"Effort Value\", sep = \" \"), y = \"Item Total Correlation\",\n",
    "                 title = toTitleCase(phq_item_names[which(POMP_col_names == item)])) +\n",
    "            #remove legend\n",
    "            theme(legend.position = ifelse(item == \"phq1\", \"right\", \"none\")) +\n",
    "            annotate(\n",
    "                \"text\",\n",
    "                x = 0,\n",
    "                y = 0,\n",
    "                label = label_text,\n",
    "                hjust = 0,\n",
    "                size = 4,\n",
    "                color = \"black\"\n",
    "            )\n",
    "        plot_list[[item]] <- plot_cor\n",
    "        plot_list_trend[[item]] <- plot_scale_trends\n",
    "    }\n",
    "    POMP_adequacy_effort_list[[var]] <- plot_list\n",
    "    POMP_adequacy_effort_trends[[var]] <- plot_list_trend\n",
    "}"
   ],
   "id": "01829689-ca30-42c3-ad23-a0406a5185f9"
  },
  {
   "cell_type": "code",
   "execution_count": null,
   "metadata": {},
   "outputs": [
    {
     "output_type": "display_data",
     "metadata": {},
     "data": {}
    }
   ],
   "source": [
    "grid.arrange(\n",
    "    grobs = POMP_adequacy_effort_list[[\"Adequacy\"]],\n",
    "    ncol = 3\n",
    ")"
   ],
   "id": "8de83f83-108b-4feb-bb49-91c964704fe3"
  },
  {
   "cell_type": "code",
   "execution_count": null,
   "metadata": {},
   "outputs": [
    {
     "output_type": "display_data",
     "metadata": {},
     "data": {}
    }
   ],
   "source": [
    "grid.arrange(\n",
    "    grobs = POMP_adequacy_effort_trends[[\"Adequacy\"]],\n",
    "    ncol = 3\n",
    ")"
   ],
   "id": "540335fd-bf63-4aff-9233-2dbd4d54d5c1"
  }
 ],
 "nbformat": 4,
 "nbformat_minor": 5,
 "metadata": {}
}
